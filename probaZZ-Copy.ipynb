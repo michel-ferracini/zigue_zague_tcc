{
 "cells": [
  {
   "cell_type": "code",
   "execution_count": 1,
   "metadata": {},
   "outputs": [],
   "source": [
    "def listaProximaJogada(posicaoAtual, colunaMAX):\n",
    "    if posicaoAtual == 0:\n",
    "        return [0, 1]\n",
    "    elif posicaoAtual == colunaMAX:\n",
    "        return [colunaMAX - 1, colunaMAX]\n",
    "    elif 0 < posicaoAtual < colunaMAX:\n",
    "        return [posicaoAtual - 1, posicaoAtual, posicaoAtual + 1]\n",
    "    else:\n",
    "        return [-1]"
   ]
  },
  {
   "cell_type": "code",
   "execution_count": 2,
   "metadata": {},
   "outputs": [],
   "source": [
    "from itertools import permutations, product"
   ]
  },
  {
   "cell_type": "code",
   "execution_count": 3,
   "metadata": {},
   "outputs": [],
   "source": [
    "def produtoFiltrado():\n",
    "    D = [1, 2, 3, 4, 5, 6]\n",
    "    produto = list(product(D, D, D))\n",
    "    produto_filtrado = []\n",
    "    while (produto):\n",
    "        produto_filtrado.append(produto[0])\n",
    "        permutacoes = list(permutations([produto[0][0], produto[0][1], produto[0][2]]))\n",
    "        for p in permutacoes:\n",
    "            if p in produto:\n",
    "                produto.remove(p)\n",
    "    return produto_filtrado"
   ]
  },
  {
   "cell_type": "code",
   "execution_count": 4,
   "metadata": {},
   "outputs": [],
   "source": [
    "import os\n",
    "import shelve"
   ]
  },
  {
   "cell_type": "code",
   "execution_count": 5,
   "metadata": {},
   "outputs": [],
   "source": [
    "path = os.path.join('.', 'variaveis')"
   ]
  },
  {
   "cell_type": "code",
   "execution_count": 6,
   "metadata": {},
   "outputs": [
    {
     "name": "stdout",
     "output_type": "stream",
     "text": [
      "O arquivo variaveis já existe no diretório atual: ./variaveis\n"
     ]
    }
   ],
   "source": [
    "if not os.path.exists(path):\n",
    "    variaveis = shelve.open(path)\n",
    "    print(f'Arquivo variaveis gerado no diretório atual: {path}')\n",
    "    variaveis.close()\n",
    "else:\n",
    "    print(f'O arquivo variaveis já existe no diretório atual: {path}')"
   ]
  },
  {
   "cell_type": "code",
   "execution_count": 7,
   "metadata": {},
   "outputs": [],
   "source": [
    "variaveis = shelve.open(path)"
   ]
  },
  {
   "cell_type": "code",
   "execution_count": 8,
   "metadata": {},
   "outputs": [
    {
     "name": "stdout",
     "output_type": "stream",
     "text": [
      "A variável configuracoes_dados já existe em ./variaveis.\n"
     ]
    }
   ],
   "source": [
    "try:\n",
    "    if variaveis['configuracoes_dados']:\n",
    "        print(f'A variável configuracoes_dados já existe em {path}.')\n",
    "except KeyError:\n",
    "    variaveis['configuracoes_dados'] = produtoFiltrado()\n",
    "    print(f'Variável configuracoes_dados gravada com sucesso em {path}.')"
   ]
  },
  {
   "cell_type": "code",
   "execution_count": 9,
   "metadata": {},
   "outputs": [],
   "source": [
    "def resultadosExpressoes(configuracoes_dados):\n",
    "    resultados = []\n",
    "    # Laço que percorre cada terna obtida no experimento aleatório:\n",
    "    for p in configuracoes_dados:\n",
    "        if p[0] == p[1] and p[1] == p[2]:  # Se a = b = c, na terna (a,b,c), \n",
    "            # então adicionamos as expressões abaixo à lista \"resultados\":\n",
    "            resultados.append(p[0] + p[1] + p[2])  # a + b + c\n",
    "            resultados.append(p[0] + p[1] - p[2])  # a + b - c\n",
    "            resultados.append(p[0] - p[1] - p[2])  # a - b - c\n",
    "        elif p[0] == p[1]:  # Se a = b, adicionamos:\n",
    "            resultados.append(p[0] + p[1] + p[2])  # a + b + c\n",
    "            resultados.append(p[0] + p[1] - p[2])  # a + b - c\n",
    "            resultados.append(p[0] - p[1] + p[2])  # a - b + c\n",
    "            resultados.append(p[0] - p[1] - p[2])  # a - b - c\n",
    "            resultados.append(p[2] - p[0] - p[1])  # c - a - b\n",
    "        elif p[1] == p[2]:  # Se b = c, adicionamos:\n",
    "            resultados.append(p[0] + p[1] + p[2])  # a + b + c\n",
    "            resultados.append(p[0] + p[1] - p[2])  # a + b - c\n",
    "            resultados.append(p[0] - p[1] - p[2])  # a - b - c\n",
    "            resultados.append(p[1] - p[0] + p[2])  # b - a + c\n",
    "            resultados.append(p[1] - p[0] - p[2])  # b - a - c\n",
    "        elif p[0] == p[2]:  # Se a = c, adicionamos:\n",
    "            resultados.append(p[0] + p[1] + p[2])  # a + b + c\n",
    "            resultados.append(p[0] + p[1] - p[2])  # a + b - c\n",
    "            resultados.append(p[0] - p[1] + p[2])  # a - b + c\n",
    "            resultados.append(p[0] - p[1] - p[2])  # a - b - c\n",
    "            resultados.append(p[1] - p[0] - p[2])  # b - a - c\n",
    "        else:  # Se a != b e b != c e a != c, adicionamos:\n",
    "            resultados.append(p[0] + p[1] + p[2])  # a + b + c\n",
    "            resultados.append(p[0] + p[1] - p[2])  # a + b - c\n",
    "            resultados.append(p[0] - p[1] + p[2])  # a - b + c\n",
    "            resultados.append(p[0] - p[1] - p[2])  # a - b - c\n",
    "            resultados.append(p[1] - p[0] + p[2])  # b - a + c\n",
    "            resultados.append(p[1] - p[0] - p[2])  # b - a - c\n",
    "            resultados.append(p[2] - p[0] - p[1])  # c - a - b\n",
    "    return resultados"
   ]
  },
  {
   "cell_type": "code",
   "execution_count": 10,
   "metadata": {},
   "outputs": [
    {
     "name": "stdout",
     "output_type": "stream",
     "text": [
      "A variável resultados_expressoes já existe em ./variaveis.\n"
     ]
    }
   ],
   "source": [
    "try:\n",
    "    if variaveis['resultados_expressoes']:\n",
    "        print(f'A variável resultados_expressoes já existe em {path}.')\n",
    "except KeyError:\n",
    "    variaveis['resultados_expressoes'] = sorted(resultadosExpressoes(variaveis['configuracoes_dados']))\n",
    "    print(f'Variável resultados_expressoes gravada com sucesso em {path}.')"
   ]
  },
  {
   "cell_type": "code",
   "execution_count": 11,
   "metadata": {},
   "outputs": [],
   "source": [
    "def cardinalidade(evento, resultados_expressoes):\n",
    "    cardinalidade = 0\n",
    "    for r in resultados_expressoes:\n",
    "        if r == evento:\n",
    "            cardinalidade += 1\n",
    "    return cardinalidade\n",
    "\n",
    "def probabilidade(evento, resultados_expressoes):\n",
    "    return cardinalidade(evento, resultados_expressoes) / len(resultados_expressoes)"
   ]
  },
  {
   "cell_type": "code",
   "execution_count": 12,
   "metadata": {},
   "outputs": [],
   "source": [
    "def tabProba(resultados_expressoes):\n",
    "    tab = [[7, 5, 6, 9, 4,  2, 8, 1, 3],\n",
    "           [2, 8, 1, 8, 10, 7, 9, 4, 5],\n",
    "           [7, 3, 2, 1, 5,  4, 5, 7, 3],\n",
    "           [5, 8, 7, 2, 8,  7, 6, 9, 8],\n",
    "           [7, 3, 2, 1, 5,  4, 5, 7, 3],\n",
    "           [2, 4, 8, 5, 9,  7, 6, 8, 5],\n",
    "           [8, 7, 3, 6, 4,  1, 2, 5, 1],\n",
    "           [6, 2, 5, 7, 8,  7, 6, 4, 3],\n",
    "           [8, 7, 6, 3, 5,  4, 9, 2, 7],\n",
    "           [5, 4, 3, 8, 9,  1, 2, 5, 4],\n",
    "           [2, 9, 7, 4, 6,  8, 7, 5, 9]]\n",
    "    tab_proba = [[] for _ in range(11)]\n",
    "    for lin in range(len(tab)):\n",
    "        for col in range(len(tab[0])):\n",
    "            tab_proba[lin].append([lin, col, tab[lin][col], \n",
    "                                   probabilidade(tab[lin][col], \n",
    "                                                 resultados_expressoes)])\n",
    "    return tab_proba"
   ]
  },
  {
   "cell_type": "code",
   "execution_count": 13,
   "metadata": {},
   "outputs": [
    {
     "name": "stdout",
     "output_type": "stream",
     "text": [
      "A variável tab_proba já existe em ./variaveis.\n"
     ]
    }
   ],
   "source": [
    "try:\n",
    "    if variaveis['tab_proba']:\n",
    "        print(f'A variável tab_proba já existe em {path}.')\n",
    "except KeyError:\n",
    "    variaveis['tab_proba'] = tabProba(variaveis['resultados_expressoes'])\n",
    "    print(f'Variável tab_proba gravada com sucesso em {path}.')"
   ]
  },
  {
   "cell_type": "code",
   "execution_count": 14,
   "metadata": {},
   "outputs": [],
   "source": [
    "def probaCaminho(caminho):\n",
    "    produto = 1\n",
    "    for item in caminho:\n",
    "        produto *= item[3]\n",
    "    return produto\n",
    "\n",
    "def mapaTabuleiro(tab_proba):\n",
    "    colunaMAX = 8\n",
    "    mapa = []\n",
    "    for p1 in [0, 1, 2, 3, 4, 5, 6, 7, 8]:\n",
    "        for p2 in listaProximaJogada(p1, colunaMAX):\n",
    "            for p3 in listaProximaJogada(p2, colunaMAX):\n",
    "                for p4 in listaProximaJogada(p3, colunaMAX):\n",
    "                    for p5 in listaProximaJogada(p4, colunaMAX):\n",
    "                        for p6 in listaProximaJogada(p5, colunaMAX):\n",
    "                            for p7 in listaProximaJogada(p6, colunaMAX):\n",
    "                                for p8 in listaProximaJogada(p7, colunaMAX):\n",
    "                                    for p9 in listaProximaJogada(p8, colunaMAX):\n",
    "                                        for p10 in listaProximaJogada(p9, colunaMAX):\n",
    "                                            for p11 in listaProximaJogada(p10, colunaMAX):\n",
    "                                                caminho = [\n",
    "                                                    tab_proba[0][p1], tab_proba[1][p2],\n",
    "                                                    tab_proba[2][p3], tab_proba[3][p4],\n",
    "                                                    tab_proba[4][p5], tab_proba[5][p6],\n",
    "                                                    tab_proba[6][p7], tab_proba[7][p8],\n",
    "                                                    tab_proba[8][p9], tab_proba[9][p10],\n",
    "                                                    tab_proba[10][p11]\n",
    "                                                ]\n",
    "                                                proba = probaCaminho(caminho)\n",
    "                                                mapa.append((caminho, proba))\n",
    "    return mapa"
   ]
  },
  {
   "cell_type": "code",
   "execution_count": 15,
   "metadata": {
    "scrolled": true
   },
   "outputs": [
    {
     "name": "stdout",
     "output_type": "stream",
     "text": [
      "A variável mapa_tabuleiro já existe em ./variaveis.\n"
     ]
    }
   ],
   "source": [
    "try:\n",
    "    if variaveis['mapa_tabuleiro']:\n",
    "        print(f'A variável mapa_tabuleiro já existe em {path}.')\n",
    "except KeyError:\n",
    "    variaveis['mapa_tabuleiro'] = mapaTabuleiro(variaveis['tab_proba'])\n",
    "    print(f'Variável mapa_tabuleiro gravada com sucesso em {path}.')"
   ]
  },
  {
   "cell_type": "code",
   "execution_count": 16,
   "metadata": {},
   "outputs": [],
   "source": [
    "def distintasProbas(mapa_tabuleiro):\n",
    "    distintas_probas = []\n",
    "    for caminho in mapa_tabuleiro:\n",
    "        if caminho[1] not in distintas_probas:\n",
    "            distintas_probas.append(caminho[1])\n",
    "    return distintas_probas"
   ]
  },
  {
   "cell_type": "code",
   "execution_count": 17,
   "metadata": {},
   "outputs": [
    {
     "name": "stdout",
     "output_type": "stream",
     "text": [
      "A variável distintas_probas já existe em ./variaveis.\n"
     ]
    }
   ],
   "source": [
    "try:\n",
    "    if variaveis['distintas_probas']:\n",
    "        print(f'A variável distintas_probas já existe em {path}.')\n",
    "except KeyError:\n",
    "    variaveis['distintas_probas'] = distintasProbas(variaveis['mapa_tabuleiro'])\n",
    "    print(f'Variável distintas_probas gravada com sucesso em {path}.')"
   ]
  },
  {
   "cell_type": "code",
   "execution_count": 18,
   "metadata": {
    "scrolled": true
   },
   "outputs": [],
   "source": [
    "def mapaFaixaProbas(mapa_tabuleiro, distintas_probas, indice_min_proba, indice_max_proba):\n",
    "    distintas_probas.sort()\n",
    "    inf = distintas_probas[indice_min_proba]\n",
    "    sup = distintas_probas[indice_max_proba]\n",
    "    caminhos = []\n",
    "    for item in mapa_tabuleiro:\n",
    "        if inf <= item[1] <= sup:\n",
    "            caminhos.append(item)\n",
    "    return caminhos"
   ]
  },
  {
   "cell_type": "code",
   "execution_count": 19,
   "metadata": {},
   "outputs": [
    {
     "name": "stdout",
     "output_type": "stream",
     "text": [
      "A variável submapa_inferior já existe em ./variaveis.\n"
     ]
    }
   ],
   "source": [
    "try:\n",
    "    if variaveis['submapa_inferior']:\n",
    "        print(f'A variável submapa_inferior já existe em {path}.')\n",
    "except KeyError:\n",
    "    variaveis['submapa_inferior'] = mapaFaixaProbas(variaveis['mapa_tabuleiro'], variaveis['distintas_probas'] , 0, 2000)\n",
    "    print(f'Variável submapa_inferior gravada com sucesso em {path}.')"
   ]
  },
  {
   "cell_type": "code",
   "execution_count": 20,
   "metadata": {},
   "outputs": [
    {
     "name": "stdout",
     "output_type": "stream",
     "text": [
      "A variável submapa_superior já existe em ./variaveis.\n"
     ]
    }
   ],
   "source": [
    "try:\n",
    "    if variaveis['submapa_superior']:\n",
    "        print(f'A variável submapa_superior já existe em {path}.')\n",
    "except KeyError:\n",
    "    variaveis['submapa_superior'] = mapaFaixaProbas(variaveis['mapa_tabuleiro'], variaveis['distintas_probas'], 21076, 23076)\n",
    "    print(f'Variável submapa_superior gravada com sucesso em {path}.')"
   ]
  },
  {
   "cell_type": "code",
   "execution_count": 21,
   "metadata": {},
   "outputs": [],
   "source": [
    "import random as rd"
   ]
  },
  {
   "cell_type": "code",
   "execution_count": 22,
   "metadata": {},
   "outputs": [],
   "source": [
    "def subMapaAleatorio(submapa, quantidade):\n",
    "    lista = []\n",
    "    if len(submapa) >= quantidade:\n",
    "        for caminho in rd.sample(submapa, quantidade):\n",
    "            lista.append(caminho)\n",
    "    return lista\n",
    "\n",
    "def total(submapa_inferior, submapa_superior):\n",
    "    linf = len(submapa_inferior)\n",
    "    lsup = len(submapa_superior)\n",
    "    if linf < lsup:\n",
    "        return linf\n",
    "    return lsup\n",
    "\n",
    "def mapaRazoes(submapa_inferior, submapa_superior):\n",
    "    tab_razoes = [[[1,1] for _ in range(9)] for _ in range(11)]\n",
    "    razoes = [[1 for _ in range(9)] for _ in range(11)]\n",
    "    \n",
    "    for caminho_prob in submapa_inferior:\n",
    "        caminho = caminho_prob[0]\n",
    "        for casa in caminho:\n",
    "            lin = casa[0]\n",
    "            col = casa[1]\n",
    "            tab_razoes[lin][col][1] += 1\n",
    "    for caminho_prob in submapa_superior:\n",
    "        caminho = caminho_prob[0]\n",
    "        for casa in caminho:\n",
    "            lin = casa[0]\n",
    "            col = casa[1]\n",
    "            tab_razoes[lin][col][0] += 1\n",
    "    for l in range(11):\n",
    "        for c in range(9):\n",
    "            razoes[l][c] = tab_razoes[l][c][0] / tab_razoes[l][c][1]\n",
    "    return razoes\n",
    "\n",
    "def mediasRazoes(lista_mapas_razoes):\n",
    "    tam = len(lista_mapas_razoes)\n",
    "    medias = [[0 for _ in range(9)] for _ in range(11)]\n",
    "    for mapa_razoes in lista_mapas_razoes:\n",
    "        for i in range(11):\n",
    "            for j in range(9):\n",
    "                medias[i][j] += mapa_razoes[i][j]\n",
    "    for i in range(11):\n",
    "        for j in range(9):\n",
    "            medias[i][j] = medias[i][j] / tam\n",
    "    return medias\n",
    "\n",
    "def desviosRazoes(lista_mapas_razoes, medias):\n",
    "    tam = len(lista_mapas_razoes)\n",
    "    desvios = [[0 for _ in range(9)] for _ in range(11)]\n",
    "    for mapa_razoes in lista_mapas_razoes:\n",
    "        for i in range(11):\n",
    "            for j in range(9):\n",
    "                desvios[i][j] += abs(mapa_razoes[i][j] - medias[i][j])\n",
    "    for i in range(11):\n",
    "        for j in range(9):\n",
    "            desvios[i][j] = desvios[i][j] / tam\n",
    "    return desvios\n",
    "\n",
    "def mediasComDesvio(medias, desvios, sup):\n",
    "    medias_desvio = [[0 for _ in range(9)] for _ in range(11)]\n",
    "    if sup:\n",
    "        for i in range(11):\n",
    "            for j in range(9):\n",
    "                medias_desvio[i][j] = medias[i][j] + desvios[i][j]\n",
    "    else:\n",
    "        for i in range(11):\n",
    "            for j in range(9):\n",
    "                medias_desvio[i][j] = medias[i][j] - desvios[i][j]\n",
    "    return medias_desvio"
   ]
  },
  {
   "cell_type": "code",
   "execution_count": 23,
   "metadata": {},
   "outputs": [],
   "source": [
    "def calculaMapas(TOTAL):\n",
    "    lista_mapas_razoes = []\n",
    "    for _ in range(2000):\n",
    "        submapa_aleatorio_superior = subMapaAleatorio(variaveis['submapa_superior'], TOTAL)\n",
    "        submapa_aleatorio_inferior = subMapaAleatorio(variaveis['submapa_inferior'], TOTAL)\n",
    "        razoes = mapaRazoes(submapa_aleatorio_inferior, submapa_aleatorio_superior)\n",
    "        lista_mapas_razoes.append(razoes)\n",
    "    return lista_mapas_razoes  "
   ]
  },
  {
   "cell_type": "code",
   "execution_count": 24,
   "metadata": {},
   "outputs": [
    {
     "name": "stdout",
     "output_type": "stream",
     "text": [
      "A variável total já existe em ./variaveis.\n"
     ]
    }
   ],
   "source": [
    "try:\n",
    "    if variaveis['total']:\n",
    "        print(f'A variável total já existe em {path}.')\n",
    "except KeyError:\n",
    "    variaveis['total'] = total(variaveis['submapa_inferior'], variaveis['submapa_superior'])\n",
    "    print(f'Variável total gravada com sucesso em {path}.')"
   ]
  },
  {
   "cell_type": "code",
   "execution_count": 25,
   "metadata": {},
   "outputs": [
    {
     "name": "stdout",
     "output_type": "stream",
     "text": [
      "A variável lista_mapas_razoes já existe em ./variaveis.\n"
     ]
    }
   ],
   "source": [
    "try:\n",
    "    if variaveis['lista_mapas_razoes']:\n",
    "        print(f'A variável lista_mapas_razoes já existe em {path}.')\n",
    "except KeyError:\n",
    "    variaveis['lista_mapas_razoes'] = calculaMapas(variaveis['total'])\n",
    "    print(f'Variável lista_mapas_razoes gravada com sucesso em {path}.')"
   ]
  },
  {
   "cell_type": "code",
   "execution_count": 26,
   "metadata": {},
   "outputs": [
    {
     "name": "stdout",
     "output_type": "stream",
     "text": [
      "A variável medias já existe em ./variaveis.\n"
     ]
    }
   ],
   "source": [
    "try:\n",
    "    if variaveis['medias']:\n",
    "        print(f'A variável medias já existe em {path}.')\n",
    "except KeyError:\n",
    "    variaveis['medias'] = mediasRazoes(variaveis['lista_mapas_razoes'])\n",
    "    print(f'Variável medias gravada com sucesso em {path}.')"
   ]
  },
  {
   "cell_type": "code",
   "execution_count": 27,
   "metadata": {},
   "outputs": [
    {
     "name": "stdout",
     "output_type": "stream",
     "text": [
      "A variável desvios já existe em ./variaveis.\n"
     ]
    }
   ],
   "source": [
    "try:\n",
    "    if variaveis['desvios']:\n",
    "        print(f'A variável desvios já existe em {path}.')\n",
    "except KeyError:\n",
    "    variaveis['desvios'] = desviosRazoes(variaveis['lista_mapas_razoes'], variaveis['medias'])\n",
    "    print(f'Variável desvios gravada com sucesso em {path}.')"
   ]
  },
  {
   "cell_type": "code",
   "execution_count": 28,
   "metadata": {},
   "outputs": [
    {
     "name": "stdout",
     "output_type": "stream",
     "text": [
      "A variável medias_inf já existe em ./variaveis.\n"
     ]
    }
   ],
   "source": [
    "try:\n",
    "    if variaveis['medias_inf']:\n",
    "        print(f'A variável medias_inf já existe em {path}.')\n",
    "except KeyError:\n",
    "    variaveis['medias_inf'] = mediasComDesvio(variaveis['medias'], variaveis['desvios'], False)\n",
    "    print(f'Variável medias_inf gravada com sucesso em {path}.')"
   ]
  },
  {
   "cell_type": "code",
   "execution_count": 29,
   "metadata": {},
   "outputs": [
    {
     "name": "stdout",
     "output_type": "stream",
     "text": [
      "A variável medias_sup já existe em ./variaveis.\n"
     ]
    }
   ],
   "source": [
    "try:\n",
    "    if variaveis['medias_sup']:\n",
    "        print(f'A variável medias_sup já existe em {path}.')\n",
    "except KeyError:\n",
    "    variaveis['medias_sup'] = mediasComDesvio(variaveis['medias'], variaveis['desvios'], True)\n",
    "    print(f'Variável medias_sup gravada com sucesso em {path}.')"
   ]
  },
  {
   "cell_type": "code",
   "execution_count": 30,
   "metadata": {},
   "outputs": [],
   "source": [
    "from matplotlib import pyplot as plt"
   ]
  },
  {
   "cell_type": "code",
   "execution_count": 31,
   "metadata": {
    "scrolled": false
   },
   "outputs": [
    {
     "data": {
      "image/png": "[encoded data removed]",
      "text/plain": [
       "<Figure size 432x288 with 4 Axes>"
      ]
     },
     "metadata": {
      "needs_background": "light"
     },
     "output_type": "display_data"
    }
   ],
   "source": [
    "fig = plt.figure()\n",
    "ax1 = fig.add_subplot(1, 3, 1)\n",
    "ax2 = fig.add_subplot(1, 3, 2)\n",
    "ax3 = fig.add_subplot(1, 3, 3)\n",
    "\n",
    "VMAX = 10\n",
    "\n",
    "im = ax1.pcolor(variaveis['medias_inf'], cmap=\"viridis_r\", vmin=0, vmax=VMAX)\n",
    "ax1.set_title('Médias Inferiores\\n', fontsize=18)\n",
    "\n",
    "ax2.pcolor(variaveis['medias'], cmap=\"viridis_r\", vmin=0, vmax=VMAX)\n",
    "ax2.set_title('Médias\\n', fontsize=18)\n",
    "\n",
    "ax3.pcolor(variaveis['medias_sup'], cmap=\"viridis_r\", vmin=0, vmax=VMAX)\n",
    "ax3.set_title('Médias Superiores\\n', fontsize=18)\n",
    "\n",
    "plt.colorbar(im)\n",
    "\n",
    "plt.subplots_adjust(right=3, wspace=0.3)\n",
    "\n",
    "plt.show()"
   ]
  },
  {
   "cell_type": "code",
   "execution_count": 33,
   "metadata": {},
   "outputs": [],
   "source": [
    "def jogar(tabuleiro, configuracoes_dados, imprimir=False):\n",
    "    passou = 0\n",
    "    coluna = rd.randint(0, 2)\n",
    "    pos_inicial = (0, coluna)\n",
    "\n",
    "    i = 0\n",
    "    while i < len(tabuleiro) - 1:    \n",
    "        jogada = rd.sample(configuracoes_dados, 1)\n",
    "        expressoes = resultadosExpressoes(jogada)\n",
    "        proxima_jogada = listaProximaJogada(pos_inicial[1], 2)\n",
    "        possibilidades = []\n",
    "        for posicao in proxima_jogada:\n",
    "            for expressao in expressoes:\n",
    "                if expressao == tabuleiro[i + 1][posicao]:\n",
    "                    possibilidades.append(expressao)\n",
    "        if imprimir:\n",
    "            print(f'Posição inicial: {pos_inicial}')\n",
    "            print(f'Jogada: {jogada}')\n",
    "            print(f'Expressões: {expressoes}')\n",
    "            print(f'Lista da próxima jogada: {proxima_jogada}')\n",
    "            print(f'Próxima linha: {tabuleiro[i + 1]}')\n",
    "        if possibilidades:\n",
    "            escolha = rd.choice(possibilidades)\n",
    "            coluna = tabuleiro[i + 1].index(escolha)\n",
    "            i += 1\n",
    "        else:\n",
    "            passou += 1\n",
    "            \n",
    "        if imprimir:\n",
    "            print(f'Possibilidades: {possibilidades}')\n",
    "            print(f'Jogadas sem avançar: {passou}\\n')\n",
    "        pos_inicial = (i, coluna)\n",
    "    return passou"
   ]
  },
  {
   "cell_type": "code",
   "execution_count": 34,
   "metadata": {},
   "outputs": [],
   "source": [
    "tab_esquerda = [[7,5,6],[2, 8,1],[7,3,2],[5,8,7],[7,3,2],[2,4,8],[8,7,3],[6,2,5],[8,7,6],\n",
    "                [5,4,3],[2,9,7]]\n",
    "tab_centro   = [[9,4,2],[8,10,7],[1,5,4],[2,8,7],[1,5,4],[5,9,7],[6,4,1],[7,8,7],[3,5,4],\n",
    "                [8,9,1],[4,6,8]]\n",
    "tab_direita  = [[8,1,3],[9, 4,5],[5,7,3],[6,9,8],[5,7,3],[6,8,5],[2,5,1],[6,4,3],[9,2,7],\n",
    "                [2,5,4],[7,5,9]]"
   ]
  },
  {
   "cell_type": "code",
   "execution_count": 35,
   "metadata": {},
   "outputs": [],
   "source": [
    "configuracoes_dados = variaveis['configuracoes_dados']"
   ]
  },
  {
   "cell_type": "code",
   "execution_count": 36,
   "metadata": {},
   "outputs": [],
   "source": [
    "def simulacao(numero_testes):\n",
    "    esquerda = []\n",
    "    centro = []\n",
    "    direita = []\n",
    "    for _ in range(numero_testes):\n",
    "        esquerda.append(jogar(tab_esquerda, configuracoes_dados))\n",
    "        centro.append(jogar(tab_centro, configuracoes_dados))\n",
    "        direita.append(jogar(tab_direita, configuracoes_dados))\n",
    "    esquerda = sum(esquerda) / numero_testes\n",
    "    centro = sum(centro) / numero_testes\n",
    "    direita = sum(direita) / numero_testes\n",
    "    return esquerda, centro, direita"
   ]
  },
  {
   "cell_type": "code",
   "execution_count": 37,
   "metadata": {
    "scrolled": false
   },
   "outputs": [],
   "source": [
    "import numpy as np\n",
    "import pandas as pd\n",
    "from multiprocessing import Pool\n",
    "# from multiprocessing.pool import ThreadPool as Pool # Alternativa\n",
    "\n",
    "pool = Pool(8)\n",
    "\n",
    "valores = [2000000 for _ in range(8)]"
   ]
  },
  {
   "cell_type": "code",
   "execution_count": 38,
   "metadata": {},
   "outputs": [
    {
     "name": "stdout",
     "output_type": "stream",
     "text": [
      "CPU times: user 32.9 ms, sys: 9.27 ms, total: 42.2 ms\n",
      "Wall time: 25min 42s\n"
     ]
    }
   ],
   "source": [
    "%%time\n",
    "dados = pool.map(simulacao, valores)"
   ]
  },
  {
   "cell_type": "code",
   "execution_count": 39,
   "metadata": {},
   "outputs": [
    {
     "data": {
      "text/html": [
       "<div>\n",
       "<style scoped>\n",
       "    .dataframe tbody tr th:only-of-type {\n",
       "        vertical-align: middle;\n",
       "    }\n",
       "\n",
       "    .dataframe tbody tr th {\n",
       "        vertical-align: top;\n",
       "    }\n",
       "\n",
       "    .dataframe thead th {\n",
       "        text-align: right;\n",
       "    }\n",
       "</style>\n",
       "<table border=\"1\" class=\"dataframe\">\n",
       "  <thead>\n",
       "    <tr style=\"text-align: right;\">\n",
       "      <th></th>\n",
       "      <th>Esquerda</th>\n",
       "      <th>Centro</th>\n",
       "      <th>Direita</th>\n",
       "    </tr>\n",
       "  </thead>\n",
       "  <tbody>\n",
       "    <tr>\n",
       "      <th>2 milhoes</th>\n",
       "      <td>9.025588</td>\n",
       "      <td>11.185729</td>\n",
       "      <td>9.672781</td>\n",
       "    </tr>\n",
       "    <tr>\n",
       "      <th>4 milhoes</th>\n",
       "      <td>9.027363</td>\n",
       "      <td>11.191086</td>\n",
       "      <td>9.670064</td>\n",
       "    </tr>\n",
       "    <tr>\n",
       "      <th>6 milhoes</th>\n",
       "      <td>9.031464</td>\n",
       "      <td>11.193110</td>\n",
       "      <td>9.677670</td>\n",
       "    </tr>\n",
       "    <tr>\n",
       "      <th>8 milhoes</th>\n",
       "      <td>9.025964</td>\n",
       "      <td>11.187345</td>\n",
       "      <td>9.677278</td>\n",
       "    </tr>\n",
       "    <tr>\n",
       "      <th>10 milhoes</th>\n",
       "      <td>9.027150</td>\n",
       "      <td>11.198963</td>\n",
       "      <td>9.675406</td>\n",
       "    </tr>\n",
       "    <tr>\n",
       "      <th>12 milhoes</th>\n",
       "      <td>9.036188</td>\n",
       "      <td>11.191181</td>\n",
       "      <td>9.677224</td>\n",
       "    </tr>\n",
       "    <tr>\n",
       "      <th>14 milhoes</th>\n",
       "      <td>9.029839</td>\n",
       "      <td>11.197067</td>\n",
       "      <td>9.677328</td>\n",
       "    </tr>\n",
       "    <tr>\n",
       "      <th>16 milhoes</th>\n",
       "      <td>9.027216</td>\n",
       "      <td>11.191668</td>\n",
       "      <td>9.671421</td>\n",
       "    </tr>\n",
       "  </tbody>\n",
       "</table>\n",
       "</div>"
      ],
      "text/plain": [
       "            Esquerda     Centro   Direita\n",
       "2 milhoes   9.025588  11.185729  9.672781\n",
       "4 milhoes   9.027363  11.191086  9.670064\n",
       "6 milhoes   9.031464  11.193110  9.677670\n",
       "8 milhoes   9.025964  11.187345  9.677278\n",
       "10 milhoes  9.027150  11.198963  9.675406\n",
       "12 milhoes  9.036188  11.191181  9.677224\n",
       "14 milhoes  9.029839  11.197067  9.677328\n",
       "16 milhoes  9.027216  11.191668  9.671421"
      ]
     },
     "execution_count": 39,
     "metadata": {},
     "output_type": "execute_result"
    }
   ],
   "source": [
    "dados = np.array(dados)\n",
    "\n",
    "df = pd.DataFrame(dados, \n",
    "                  index=['2 milhoes', '4 milhoes', '6 milhoes', '8 milhoes', \n",
    "                         '10 milhoes', '12 milhoes', '14 milhoes', '16 milhoes'], \n",
    "                  columns=['Esquerda', 'Centro', 'Direita'])\n",
    "df"
   ]
  },
  {
   "cell_type": "code",
   "execution_count": 40,
   "metadata": {},
   "outputs": [
    {
     "data": {
      "text/plain": [
       "Esquerda     9.028847\n",
       "Centro      11.192018\n",
       "Direita      9.674897\n",
       "dtype: float64"
      ]
     },
     "execution_count": 40,
     "metadata": {},
     "output_type": "execute_result"
    }
   ],
   "source": [
    "df.mean()"
   ]
  },
  {
   "cell_type": "code",
   "execution_count": 41,
   "metadata": {},
   "outputs": [
    {
     "data": {
      "text/html": [
       "<div>\n",
       "<style scoped>\n",
       "    .dataframe tbody tr th:only-of-type {\n",
       "        vertical-align: middle;\n",
       "    }\n",
       "\n",
       "    .dataframe tbody tr th {\n",
       "        vertical-align: top;\n",
       "    }\n",
       "\n",
       "    .dataframe thead th {\n",
       "        text-align: right;\n",
       "    }\n",
       "</style>\n",
       "<table border=\"1\" class=\"dataframe\">\n",
       "  <thead>\n",
       "    <tr style=\"text-align: right;\">\n",
       "      <th></th>\n",
       "      <th>% Centro</th>\n",
       "      <th>% Direita</th>\n",
       "    </tr>\n",
       "  </thead>\n",
       "  <tbody>\n",
       "    <tr>\n",
       "      <th>2 milhoes</th>\n",
       "      <td>23.933514</td>\n",
       "      <td>7.170646</td>\n",
       "    </tr>\n",
       "    <tr>\n",
       "      <th>4 milhoes</th>\n",
       "      <td>23.968488</td>\n",
       "      <td>7.119471</td>\n",
       "    </tr>\n",
       "    <tr>\n",
       "      <th>6 milhoes</th>\n",
       "      <td>23.934608</td>\n",
       "      <td>7.155058</td>\n",
       "    </tr>\n",
       "    <tr>\n",
       "      <th>8 milhoes</th>\n",
       "      <td>23.946257</td>\n",
       "      <td>7.216005</td>\n",
       "    </tr>\n",
       "    <tr>\n",
       "      <th>10 milhoes</th>\n",
       "      <td>24.058673</td>\n",
       "      <td>7.181176</td>\n",
       "    </tr>\n",
       "    <tr>\n",
       "      <th>12 milhoes</th>\n",
       "      <td>23.848468</td>\n",
       "      <td>7.094086</td>\n",
       "    </tr>\n",
       "    <tr>\n",
       "      <th>14 milhoes</th>\n",
       "      <td>24.000732</td>\n",
       "      <td>7.170554</td>\n",
       "    </tr>\n",
       "    <tr>\n",
       "      <th>16 milhoes</th>\n",
       "      <td>23.976960</td>\n",
       "      <td>7.136253</td>\n",
       "    </tr>\n",
       "  </tbody>\n",
       "</table>\n",
       "</div>"
      ],
      "text/plain": [
       "             % Centro  % Direita\n",
       "2 milhoes   23.933514   7.170646\n",
       "4 milhoes   23.968488   7.119471\n",
       "6 milhoes   23.934608   7.155058\n",
       "8 milhoes   23.946257   7.216005\n",
       "10 milhoes  24.058673   7.181176\n",
       "12 milhoes  23.848468   7.094086\n",
       "14 milhoes  24.000732   7.170554\n",
       "16 milhoes  23.976960   7.136253"
      ]
     },
     "execution_count": 41,
     "metadata": {},
     "output_type": "execute_result"
    }
   ],
   "source": [
    "df['% Centro'] = 100 * (df['Centro'] - df['Esquerda']) / df['Esquerda']\n",
    "df['% Direita'] = 100 * (df['Direita'] - df['Esquerda']) / df['Esquerda']\n",
    "\n",
    "percentual = df.drop(['Esquerda', 'Centro', 'Direita'], axis=1)\n",
    "\n",
    "percentual"
   ]
  }
 ],
 "metadata": {
  "kernelspec": {
   "display_name": "Python 3 (ipykernel)",
   "language": "python",
   "name": "python3"
  },
  "language_info": {
   "codemirror_mode": {
    "name": "ipython",
    "version": 3
   },
   "file_extension": ".py",
   "mimetype": "text/x-python",
   "name": "python",
   "nbconvert_exporter": "python",
   "pygments_lexer": "ipython3",
   "version": "3.8.10"
  }
 },
 "nbformat": 4,
 "nbformat_minor": 4
}
