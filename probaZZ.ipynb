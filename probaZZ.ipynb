{
 "cells": [
  {
   "cell_type": "markdown",
   "metadata": {},
   "source": [
    "# Solução sem persistência de dados"
   ]
  },
  {
   "cell_type": "code",
   "execution_count": null,
   "metadata": {},
   "outputs": [],
   "source": [
    "def listaProximaJogada(posicaoAtual, colunaMAX):\n",
    "    if posicaoAtual == 0:\n",
    "        return [0, 1]\n",
    "    elif posicaoAtual == colunaMAX:\n",
    "        return [colunaMAX - 1, colunaMAX]\n",
    "    elif 0 < posicaoAtual < colunaMAX:\n",
    "        return [posicaoAtual - 1, posicaoAtual, posicaoAtual + 1]\n",
    "    else:\n",
    "        return [-1]"
   ]
  },
  {
   "cell_type": "code",
   "execution_count": null,
   "metadata": {},
   "outputs": [],
   "source": [
    "from itertools import permutations, product"
   ]
  },
  {
   "cell_type": "code",
   "execution_count": null,
   "metadata": {},
   "outputs": [],
   "source": [
    "def produtoFiltrado():\n",
    "    D = [1, 2, 3, 4, 5, 6]\n",
    "    produto = list(product(D, D, D))\n",
    "    produto_filtrado = []\n",
    "    while (produto):\n",
    "        produto_filtrado.append(produto[0])\n",
    "        permutacoes = list(permutations([produto[0][0], produto[0][1], produto[0][2]]))\n",
    "        for p in permutacoes:\n",
    "            if p in produto:\n",
    "                produto.remove(p)\n",
    "    return produto_filtrado"
   ]
  },
  {
   "cell_type": "code",
   "execution_count": null,
   "metadata": {},
   "outputs": [],
   "source": [
    "configuracoes_dados = produtoFiltrado()"
   ]
  },
  {
   "cell_type": "code",
   "execution_count": null,
   "metadata": {},
   "outputs": [],
   "source": [
    "def resultadosExpressoes(configuracoes_dados):\n",
    "    resultados = []\n",
    "    for p in configuracoes_dados:\n",
    "        if p[0] == p[1] and p[1] == p[2]:\n",
    "            resultados.append(p[0] + p[1] + p[2])\n",
    "            resultados.append(p[0] + p[1] - p[2])\n",
    "            resultados.append(p[0] - p[1] - p[2])\n",
    "        elif p[0] == p[1]:\n",
    "            resultados.append(p[0] + p[1] + p[2])\n",
    "            resultados.append(p[0] + p[1] - p[2])\n",
    "            resultados.append(p[0] - p[1] + p[2])\n",
    "            resultados.append(p[0] - p[1] - p[2])\n",
    "            resultados.append(p[2] - p[0] - p[1])\n",
    "        elif p[1] == p[2]:\n",
    "            resultados.append(p[0] + p[1] + p[2])\n",
    "            resultados.append(p[0] + p[1] - p[2])\n",
    "            resultados.append(p[0] - p[1] - p[2])\n",
    "            resultados.append(p[1] - p[0] + p[2])\n",
    "            resultados.append(p[1] - p[0] - p[2])\n",
    "        elif p[0] == p[2]:\n",
    "            resultados.append(p[0] + p[1] + p[2])\n",
    "            resultados.append(p[0] + p[1] - p[2])\n",
    "            resultados.append(p[0] - p[1] + p[2])\n",
    "            resultados.append(p[0] - p[1] - p[2])\n",
    "            resultados.append(p[1] - p[0] - p[2])\n",
    "        else:\n",
    "            resultados.append(p[0] + p[1] + p[2])\n",
    "            resultados.append(p[0] + p[1] - p[2])\n",
    "            resultados.append(p[0] - p[1] + p[2])\n",
    "            resultados.append(p[0] - p[1] - p[2])\n",
    "            resultados.append(p[1] - p[0] + p[2])\n",
    "            resultados.append(p[1] - p[0] - p[2])\n",
    "            resultados.append(p[2] - p[0] - p[1])\n",
    "    return resultados"
   ]
  },
  {
   "cell_type": "code",
   "execution_count": null,
   "metadata": {},
   "outputs": [],
   "source": [
    "resultados_expressoes = resultadosExpressoes(configuracoes_dados)\n",
    "resultados_expressoes.sort()"
   ]
  },
  {
   "cell_type": "code",
   "execution_count": null,
   "metadata": {},
   "outputs": [],
   "source": [
    "def cardinalidade(evento, resultados_expressoes):\n",
    "    cardinalidade = 0\n",
    "    for r in resultados_expressoes:\n",
    "        if r == evento:\n",
    "            cardinalidade += 1\n",
    "    return cardinalidade\n",
    "\n",
    "def probabilidade(evento, resultados_expressoes):\n",
    "    return cardinalidade(evento, resultados_expressoes) / len(resultados_expressoes)"
   ]
  },
  {
   "cell_type": "code",
   "execution_count": null,
   "metadata": {},
   "outputs": [],
   "source": [
    "def tabProba(resultados_expressoes):\n",
    "    tab = [[7, 5, 6, 9, 4,  2, 8, 1, 3],[2, 8, 1, 8, 10, 7, 9, 4, 5],\n",
    "           [7, 3, 2, 1, 5,  4, 5, 7, 3],[5, 8, 7, 2, 8,  7, 6, 9, 8],\n",
    "           [7, 3, 2, 1, 5,  4, 5, 7, 3],[2, 4, 8, 5, 9,  7, 6, 8, 5],\n",
    "           [8, 7, 3, 6, 4,  1, 2, 5, 1],[6, 2, 5, 7, 8,  7, 6, 4, 3],\n",
    "           [8, 7, 6, 3, 5,  4, 9, 2, 7],[5, 4, 3, 8, 9,  1, 2, 5, 4],\n",
    "           [2, 9, 7, 4, 6,  8, 7, 5, 9]]\n",
    "    tab_proba = [[] for _ in range(9) for _ in range(11)]\n",
    "    for lin in range(len(tab)):\n",
    "        for col in range(len(tab[0])):\n",
    "            tab_proba[lin].append([lin, col, tab[lin][col], \n",
    "                                   probabilidade(tab[lin][col], \n",
    "                                                 resultados_expressoes)])\n",
    "    return tab_proba"
   ]
  },
  {
   "cell_type": "code",
   "execution_count": null,
   "metadata": {},
   "outputs": [],
   "source": [
    "tab_proba = tabProba(resultados_expressoes)"
   ]
  },
  {
   "cell_type": "code",
   "execution_count": null,
   "metadata": {},
   "outputs": [],
   "source": [
    "def probaCaminho(caminho):\n",
    "    produto = 1\n",
    "    for item in caminho:\n",
    "        produto *= item[3]\n",
    "    return produto\n",
    "\n",
    "def mapaTabuleiro(tab_proba):\n",
    "    colunaMAX = 8\n",
    "    mapa = []\n",
    "    for p1 in [0, 1, 2, 3, 4, 5, 6, 7, 8]:\n",
    "        for p2 in listaProximaJogada(p1, colunaMAX):\n",
    "            for p3 in listaProximaJogada(p2, colunaMAX):\n",
    "                for p4 in listaProximaJogada(p3, colunaMAX):\n",
    "                    for p5 in listaProximaJogada(p4, colunaMAX):\n",
    "                        for p6 in listaProximaJogada(p5, colunaMAX):\n",
    "                            for p7 in listaProximaJogada(p6, colunaMAX):\n",
    "                                for p8 in listaProximaJogada(p7, colunaMAX):\n",
    "                                    for p9 in listaProximaJogada(p8, colunaMAX):\n",
    "                                        for p10 in listaProximaJogada(p9, colunaMAX):\n",
    "                                            for p11 in listaProximaJogada(p10, colunaMAX):\n",
    "                                                caminho = [\n",
    "                                                    tab_proba[0][p1], tab_proba[1][p2],\n",
    "                                                    tab_proba[2][p3], tab_proba[3][p4],\n",
    "                                                    tab_proba[4][p5], tab_proba[5][p6],\n",
    "                                                    tab_proba[6][p7], tab_proba[7][p8],\n",
    "                                                    tab_proba[8][p9], tab_proba[9][p10],\n",
    "                                                    tab_proba[10][p11]\n",
    "                                                ]\n",
    "                                                proba = probaCaminho(caminho)\n",
    "                                                mapa.append((caminho, proba))\n",
    "    return mapa"
   ]
  },
  {
   "cell_type": "code",
   "execution_count": null,
   "metadata": {},
   "outputs": [],
   "source": [
    "mapa_tabuleiro = mapaTabuleiro(tab_proba)"
   ]
  },
  {
   "cell_type": "code",
   "execution_count": null,
   "metadata": {},
   "outputs": [],
   "source": [
    "def distintasProbas(mapa_tabuleiro):\n",
    "    distintas_probas = []\n",
    "    for caminho in mapa_tabuleiro:\n",
    "        if caminho[1] not in distintas_probas:\n",
    "            distintas_probas.append(caminho[1])\n",
    "    return distintas_probas"
   ]
  },
  {
   "cell_type": "code",
   "execution_count": null,
   "metadata": {},
   "outputs": [],
   "source": [
    "distintas_probas = distintasProbas(mapa_tabuleiro)"
   ]
  },
  {
   "cell_type": "code",
   "execution_count": null,
   "metadata": {
    "scrolled": true
   },
   "outputs": [],
   "source": [
    "def mapaFaixaProbas(mapa_tabuleiro, distintas_probas, indice_min_proba, indice_max_proba):\n",
    "    distintas_probas.sort()\n",
    "    inf = distintas_probas[indice_min_proba]\n",
    "    sup = distintas_probas[indice_max_proba]\n",
    "    caminhos = []\n",
    "    for item in mapa_tabuleiro:\n",
    "        if inf <= item[1] <= sup:\n",
    "            caminhos.append(item)\n",
    "    return caminhos"
   ]
  },
  {
   "cell_type": "code",
   "execution_count": null,
   "metadata": {
    "scrolled": true
   },
   "outputs": [],
   "source": [
    "submapa_inferior = mapaFaixaProbas(mapa_tabuleiro, distintas_probas, 0, 2000)\n",
    "submapa_superior = mapaFaixaProbas(mapa_tabuleiro, distintas_probas, 21076, 23076)"
   ]
  },
  {
   "cell_type": "code",
   "execution_count": null,
   "metadata": {},
   "outputs": [],
   "source": [
    "import random as rd"
   ]
  },
  {
   "cell_type": "code",
   "execution_count": null,
   "metadata": {},
   "outputs": [],
   "source": [
    "def subMapaAleatorio(submapa, quantidade):\n",
    "    lista = []\n",
    "    if len(submapa) >= quantidade:\n",
    "        for caminho in rd.sample(submapa, quantidade):\n",
    "            lista.append(caminho)\n",
    "    return lista\n",
    "\n",
    "def total(submapa_inferior, submapa_superior):\n",
    "    linf = len(submapa_inferior)\n",
    "    lsup = len(submapa_superior)\n",
    "    if linf < lsup:\n",
    "        return linf\n",
    "    return lsup\n",
    "\n",
    "def mapaRazoes(submapa_inferior, submapa_superior):\n",
    "    tab_razoes = [[[1,1] for _ in range(9)] for _ in range(11)]\n",
    "    razoes = [[1 for _ in range(9)] for _ in range(11)]\n",
    "    \n",
    "    for caminho_prob in submapa_inferior:\n",
    "        caminho = caminho_prob[0]\n",
    "        for casa in caminho:\n",
    "            lin = casa[0]\n",
    "            col = casa[1]\n",
    "            tab_razoes[lin][col][1] += 1\n",
    "    for caminho_prob in submapa_superior:\n",
    "        caminho = caminho_prob[0]\n",
    "        for casa in caminho:\n",
    "            lin = casa[0]\n",
    "            col = casa[1]\n",
    "            tab_razoes[lin][col][0] += 1\n",
    "    for l in range(11):\n",
    "        for c in range(9):\n",
    "            razoes[l][c] = tab_razoes[l][c][0] / tab_razoes[l][c][1]\n",
    "    return razoes\n",
    "\n",
    "def mediasRazoes(lista_mapas_razoes):\n",
    "    tam = len(lista_mapas_razoes)\n",
    "    medias = [[0 for _ in range(9)] for _ in range(11)]\n",
    "    for mapa_razoes in lista_mapas_razoes:\n",
    "        for i in range(11):\n",
    "            for j in range(9):\n",
    "                medias[i][j] += mapa_razoes[i][j]\n",
    "    for i in range(11):\n",
    "        for j in range(9):\n",
    "            medias[i][j] = medias[i][j] / tam\n",
    "    return medias\n",
    "\n",
    "def desviosRazoes(lista_mapas_razoes, medias):\n",
    "    tam = len(lista_mapas_razoes)\n",
    "    desvios = [[0 for _ in range(9)] for _ in range(11)]\n",
    "    for mapa_razoes in lista_mapas_razoes:\n",
    "        for i in range(11):\n",
    "            for j in range(9):\n",
    "                desvios[i][j] += abs(mapa_razoes[i][j] - medias[i][j])\n",
    "    for i in range(11):\n",
    "        for j in range(9):\n",
    "            desvios[i][j] = desvios[i][j] / tam\n",
    "    return desvios\n",
    "\n",
    "def mediasComDesvio(medias, desvios, sup):\n",
    "    medias_desvio = [[0 for _ in range(9)] for _ in range(11)]\n",
    "    if sup:\n",
    "        for i in range(11):\n",
    "            for j in range(9):\n",
    "                medias_desvio[i][j] = medias[i][j] + desvios[i][j]\n",
    "    else:\n",
    "        for i in range(11):\n",
    "            for j in range(9):\n",
    "                medias_desvio[i][j] = medias[i][j] - desvios[i][j]\n",
    "    return medias_desvio"
   ]
  },
  {
   "cell_type": "code",
   "execution_count": null,
   "metadata": {},
   "outputs": [],
   "source": [
    "TOTAL = total(submapa_inferior, submapa_superior)\n",
    "\n",
    "lista_mapas_razoes = []\n",
    "for _ in range(2000):\n",
    "    submapa_aleatorio_superior = subMapaAleatorio(submapa_superior, TOTAL)\n",
    "    submapa_aleatorio_inferior = subMapaAleatorio(submapa_inferior, TOTAL)\n",
    "    razoes = mapaRazoes(submapa_aleatorio_inferior, submapa_aleatorio_superior)\n",
    "    lista_mapas_razoes.append(razoes)\n",
    "    \n",
    "medias = mediasRazoes(lista_mapas_razoes)\n",
    "desvios = desviosRazoes(lista_mapas_razoes, medias)\n",
    "medias_inf = mediasComDesvio(medias, desvios, False)\n",
    "medias_sup = mediasComDesvio(medias, desvios, True)"
   ]
  },
  {
   "cell_type": "code",
   "execution_count": null,
   "metadata": {},
   "outputs": [],
   "source": [
    "from matplotlib import pyplot as plt"
   ]
  },
  {
   "cell_type": "code",
   "execution_count": null,
   "metadata": {},
   "outputs": [],
   "source": [
    "fig = plt.figure()\n",
    "ax1 = fig.add_subplot(1, 3, 1)\n",
    "ax2 = fig.add_subplot(1, 3, 2)\n",
    "ax3 = fig.add_subplot(1, 3, 3)\n",
    "\n",
    "VMAX = 10\n",
    "\n",
    "im = ax1.pcolor(medias_inf, cmap=\"viridis_r\", vmin=0, vmax=VMAX)\n",
    "ax1.set_title('Médias Inferiores\\n', fontsize=18)\n",
    "\n",
    "ax2.pcolor(medias, cmap=\"viridis_r\", vmin=0, vmax=VMAX)\n",
    "ax2.set_title('Médias\\n', fontsize=18)\n",
    "\n",
    "ax3.pcolor(medias_sup, cmap=\"viridis_r\", vmin=0, vmax=VMAX)\n",
    "ax3.set_title('Médias Superiores\\n', fontsize=18)\n",
    "\n",
    "plt.colorbar(im)\n",
    "\n",
    "plt.subplots_adjust(right=3, wspace=0.3)\n",
    "\n",
    "plt.show()"
   ]
  },
  {
   "cell_type": "code",
   "execution_count": null,
   "metadata": {},
   "outputs": [],
   "source": [
    "def jogar(tabuleiro, configuracoes_dados, imprimir=False):\n",
    "    passou = 0\n",
    "    coluna = rd.randint(0,2)\n",
    "    pos_inicial = (0, coluna)\n",
    "\n",
    "    i = 0\n",
    "\n",
    "    while i < len(tabuleiro) - 1:    \n",
    "        jogada = rd.sample(configuracoes_dados, 1)\n",
    "        expressoes = resultadosExpressoes(jogada)\n",
    "        proxima_jogada = listaProximaJogada(pos_inicial[1], 2)\n",
    "        possibilidades = []\n",
    "        for posicao in proxima_jogada:\n",
    "            for expressao in expressoes:\n",
    "                if expressao == tabuleiro[i + 1][posicao]:\n",
    "                    possibilidades.append(expressao)\n",
    "        if imprimir:\n",
    "            print(f'Posição inicial: {pos_inicial}')\n",
    "            print(f'Jogada: {jogada}')\n",
    "            print(f'Expressões: {expressoes}')\n",
    "            print(f'Lista da próxima jogada: {proxima_jogada}')\n",
    "            print(f'Próxima linha: {tabuleiro[i + 1]}')\n",
    "        if possibilidades:\n",
    "            escolha = rd.choice(possibilidades)\n",
    "            coluna = tabuleiro[i + 1].index(escolha)\n",
    "            i += 1\n",
    "        else:\n",
    "            passou += 1\n",
    "            \n",
    "        if imprimir:\n",
    "            print(f'Possibilidades: {possibilidades}')\n",
    "            print(f'Jogadas sem avançar: {passou}\\n')\n",
    "        pos_inicial = (i, coluna)\n",
    "    return passou"
   ]
  },
  {
   "cell_type": "code",
   "execution_count": null,
   "metadata": {},
   "outputs": [],
   "source": [
    "tab_esquerda = [[7,5,6],[2, 8,1],[7,3,2],[5,8,7],[7,3,2],[2,4,8],[8,7,3],[6,2,5],[8,7,6],\n",
    "                [5,4,3],[2,9,7]]\n",
    "tab_centro   = [[9,4,2],[8,10,7],[1,5,4],[2,8,7],[1,5,4],[5,9,7],[6,4,1],[7,8,7],[3,5,4],\n",
    "                [8,9,1],[4,6,8]]\n",
    "tab_direita  = [[8,1,3],[9, 4,5],[5,7,3],[6,9,8],[5,7,3],[6,8,5],[2,5,1],[6,4,3],[9,2,7],\n",
    "                [2,5,4],[7,5,9]]"
   ]
  },
  {
   "cell_type": "code",
   "execution_count": null,
   "metadata": {},
   "outputs": [],
   "source": [
    "def simulacao(numero_testes):\n",
    "    esquerda = []\n",
    "    centro = []\n",
    "    direita = []\n",
    "    for _ in range(numero_testes):\n",
    "        esquerda.append(jogar(tab_esquerda, configuracoes_dados))\n",
    "        centro.append(jogar(tab_centro, configuracoes_dados))\n",
    "        direita.append(jogar(tab_direita, configuracoes_dados))\n",
    "    esquerda = sum(esquerda) / numero_testes\n",
    "    centro = sum(centro) / numero_testes\n",
    "    direita = sum(direita) / numero_testes\n",
    "    return (esquerda, centro, direita)"
   ]
  },
  {
   "cell_type": "code",
   "execution_count": null,
   "metadata": {},
   "outputs": [],
   "source": [
    "import numpy as np\n",
    "import pandas as pd\n",
    "from multiprocessing import Pool\n",
    "\n",
    "pool = Pool(8)\n",
    "\n",
    "valores = [2*10**6 for _ in range(8)]"
   ]
  },
  {
   "cell_type": "code",
   "execution_count": null,
   "metadata": {},
   "outputs": [],
   "source": [
    "dados = pool.map(simulacao, valores)"
   ]
  },
  {
   "cell_type": "code",
   "execution_count": null,
   "metadata": {},
   "outputs": [],
   "source": [
    "dados = np.array(dados)\n",
    "\n",
    "df = pd.DataFrame(dados, \n",
    "                  index=['2 milhoes', '4 milhoes', '6 milhoes', '8 milhoes', \n",
    "                         '10 milhoes', '12 milhoes', '14 milhoes', '16 milhoes'], \n",
    "                  columns=['Esquerda', 'Centro', 'Direita'])\n",
    "df"
   ]
  },
  {
   "cell_type": "code",
   "execution_count": null,
   "metadata": {},
   "outputs": [],
   "source": [
    "df.mean()"
   ]
  },
  {
   "cell_type": "code",
   "execution_count": null,
   "metadata": {},
   "outputs": [],
   "source": [
    "df['% Centro'] = 100 * (df['Centro'] - df['Esquerda']) / df['Esquerda']\n",
    "df['% Direita'] = 100 * (df['Direita'] - df['Esquerda']) / df['Esquerda']\n",
    "\n",
    "percentual = df.drop(['Esquerda', 'Centro', 'Direita'], axis=1)\n",
    "\n",
    "percentual"
   ]
  },
  {
   "cell_type": "code",
   "execution_count": null,
   "metadata": {},
   "outputs": [],
   "source": [
    "percentual.mean()"
   ]
  }
 ],
 "metadata": {
  "kernelspec": {
   "display_name": "Python 3 (ipykernel)",
   "language": "python",
   "name": "python3"
  },
  "language_info": {
   "codemirror_mode": {
    "name": "ipython",
    "version": 3
   },
   "file_extension": ".py",
   "mimetype": "text/x-python",
   "name": "python",
   "nbconvert_exporter": "python",
   "pygments_lexer": "ipython3",
   "version": "3.8.10"
  }
 },
 "nbformat": 4,
 "nbformat_minor": 4
}
