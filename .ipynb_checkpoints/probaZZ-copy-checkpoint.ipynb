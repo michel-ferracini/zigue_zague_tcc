{
 "cells": [
  {
   "cell_type": "code",
   "execution_count": null,
   "metadata": {},
   "outputs": [],
   "source": [
    "def listaProximaJogada(posicaoAtual, colunaMAX):\n",
    "    if posicaoAtual == 0:\n",
    "        return [0, 1]\n",
    "    elif posicaoAtual == colunaMAX:\n",
    "        return [colunaMAX - 1, colunaMAX]\n",
    "    elif 0 < posicaoAtual < colunaMAX:\n",
    "        return [posicaoAtual - 1, posicaoAtual, posicaoAtual + 1]\n",
    "    else:\n",
    "        return [-1]"
   ]
  },
  {
   "cell_type": "code",
   "execution_count": null,
   "metadata": {},
   "outputs": [],
   "source": [
    "from itertools import permutations, product"
   ]
  },
  {
   "cell_type": "code",
   "execution_count": null,
   "metadata": {},
   "outputs": [],
   "source": [
    "def produtoFiltrado():\n",
    "    D = [1, 2, 3, 4, 5, 6]\n",
    "    produto = list(product(D, D, D))\n",
    "    produto_filtrado = []\n",
    "    while (produto):\n",
    "        produto_filtrado.append(produto[0])\n",
    "        permutacoes = list(permutations([produto[0][0], produto[0][1], produto[0][2]]))\n",
    "        for p in permutacoes:\n",
    "            if p in produto:\n",
    "                produto.remove(p)\n",
    "    return produto_filtrado"
   ]
  },
  {
   "cell_type": "code",
   "execution_count": null,
   "metadata": {},
   "outputs": [],
   "source": [
    "configuracoes_dados = produtoFiltrado()\n",
    "configuracoes_dados[0]"
   ]
  },
  {
   "cell_type": "code",
   "execution_count": null,
   "metadata": {},
   "outputs": [],
   "source": [
    "def resultadosExpressoes(configuracoes_dados):\n",
    "    resultados = []\n",
    "    for p in configuracoes_dados:\n",
    "        if p[0] == p[1] and p[1] == p[2]:\n",
    "            resultados.append(p[0] + p[1] + p[2])\n",
    "            resultados.append(p[0] + p[1] - p[2])\n",
    "            resultados.append(p[0] - p[1] - p[2])\n",
    "        elif p[0] == p[1]:\n",
    "            resultados.append(p[0] + p[1] + p[2])\n",
    "            resultados.append(p[0] + p[1] - p[2])\n",
    "            resultados.append(p[0] - p[1] + p[2])\n",
    "            resultados.append(p[0] - p[1] - p[2])\n",
    "            resultados.append(p[2] - p[0] - p[1])\n",
    "        elif p[1] == p[2]:\n",
    "            resultados.append(p[0] + p[1] + p[2])\n",
    "            resultados.append(p[0] + p[1] - p[2])\n",
    "            resultados.append(p[0] - p[1] - p[2])\n",
    "            resultados.append(p[1] - p[0] + p[2])\n",
    "            resultados.append(p[1] - p[0] - p[2])\n",
    "        elif p[0] == p[2]:\n",
    "            resultados.append(p[0] + p[1] + p[2])\n",
    "            resultados.append(p[0] + p[1] - p[2])\n",
    "            resultados.append(p[0] - p[1] + p[2])\n",
    "            resultados.append(p[0] - p[1] - p[2])\n",
    "            resultados.append(p[1] - p[0] - p[2])\n",
    "        else:\n",
    "            resultados.append(p[0] + p[1] + p[2])\n",
    "            resultados.append(p[0] + p[1] - p[2])\n",
    "            resultados.append(p[0] - p[1] + p[2])\n",
    "            resultados.append(p[0] - p[1] - p[2])\n",
    "            resultados.append(p[1] - p[0] + p[2])\n",
    "            resultados.append(p[1] - p[0] - p[2])\n",
    "            resultados.append(p[2] - p[0] - p[1])\n",
    "    return resultados"
   ]
  },
  {
   "cell_type": "code",
   "execution_count": null,
   "metadata": {},
   "outputs": [],
   "source": [
    "resultados = resultadosExpressoes(configuracoes_dados)\n",
    "resultados.sort()\n",
    "resultados[0]"
   ]
  },
  {
   "cell_type": "code",
   "execution_count": null,
   "metadata": {},
   "outputs": [],
   "source": [
    "import random as rd"
   ]
  },
  {
   "cell_type": "code",
   "execution_count": null,
   "metadata": {},
   "outputs": [],
   "source": [
    "def jogar(tabuleiro, configuracoes_dados, imprimir=False):\n",
    "    passou = 0\n",
    "    coluna = rd.randint(0, 2)\n",
    "    pos_inicial = (0, coluna)\n",
    "\n",
    "    i = 0\n",
    "    while i < len(tabuleiro) - 1:\n",
    "        jogada = rd.sample(configuracoes_dados, 1)\n",
    "        expressoes = resultadosExpressoes(jogada)\n",
    "        proxima_jogada = listaProximaJogada(pos_inicial[1], 2)\n",
    "        possibilidades = []\n",
    "        for posicao in proxima_jogada:\n",
    "            for expressao in expressoes:\n",
    "                if expressao == tabuleiro[i + 1][posicao]:\n",
    "                    possibilidades.append(expressao)\n",
    "        if imprimir:\n",
    "            print(f'Posição inicial: {pos_inicial}')\n",
    "            print(f'Jogada: {jogada}')\n",
    "            print(f'Expressões: {expressoes}')\n",
    "            print(f'Lista da próxima jogada: {proxima_jogada}')\n",
    "            print(f'Próxima linha: {tabuleiro[i + 1]}')\n",
    "            print(f'Possibilidades: {possibilidades}')\n",
    "        if possibilidades:\n",
    "            escolha = rd.choice(possibilidades)\n",
    "            coluna = tabuleiro[i + 1].index(escolha)\n",
    "            i += 1\n",
    "            pos_inicial = (i, coluna)\n",
    "            if imprimir:\n",
    "                print(f'Escolha: {escolha}')\n",
    "        else:\n",
    "            passou += 1\n",
    "        if imprimir:\n",
    "            print(f'Jogadas sem avançar: {passou}\\n')\n",
    "    return passou"
   ]
  },
  {
   "cell_type": "code",
   "execution_count": null,
   "metadata": {},
   "outputs": [],
   "source": [
    "tab_esquerda = [[7,5,6],[2, 8,1],[7,3,2],[5,8,7],[7,3,2],[2,4,8],[8,7,3],[6,2,5],[8,7,6],\n",
    "                [5,4,3],[2,9,7]]\n",
    "tab_centro   = [[9,4,2],[8,10,7],[1,5,4],[2,8,7],[1,5,4],[5,9,7],[6,4,1],[7,8,7],[3,5,4],\n",
    "                [8,9,1],[4,6,8]]\n",
    "tab_direita  = [[8,1,3],[9, 4,5],[5,7,3],[6,9,8],[5,7,3],[6,8,5],[2,5,1],[6,4,3],[9,2,7],\n",
    "                [2,5,4],[7,5,9]]"
   ]
  },
  {
   "cell_type": "code",
   "execution_count": null,
   "metadata": {},
   "outputs": [],
   "source": [
    "jogar(tab_esquerda, configuracoes_dados, True)"
   ]
  },
  {
   "cell_type": "code",
   "execution_count": null,
   "metadata": {},
   "outputs": [],
   "source": [
    "def simulacao(numero_testes):\n",
    "    esquerda = []\n",
    "    centro = []\n",
    "    direita = []\n",
    "    for _ in range(numero_testes):\n",
    "        esquerda.append(jogar(tab_esquerda, configuracoes_dados))\n",
    "        centro.append(jogar(tab_centro, configuracoes_dados))\n",
    "        direita.append(jogar(tab_direita, configuracoes_dados))\n",
    "    esquerda = sum(esquerda) / numero_testes\n",
    "    centro = sum(centro) / numero_testes\n",
    "    direita = sum(direita) / numero_testes\n",
    "    return esquerda, centro, direita"
   ]
  },
  {
   "cell_type": "code",
   "execution_count": null,
   "metadata": {
    "scrolled": false
   },
   "outputs": [],
   "source": [
    "import numpy as np\n",
    "import pandas as pd\n",
    "from multiprocessing import Pool\n",
    "\n",
    "pool = Pool(8)\n",
    "\n",
    "valores = [2*10**3 for _ in range(8)]"
   ]
  },
  {
   "cell_type": "code",
   "execution_count": null,
   "metadata": {},
   "outputs": [],
   "source": [
    "dados = pool.map(simulacao, valores)"
   ]
  },
  {
   "cell_type": "code",
   "execution_count": null,
   "metadata": {},
   "outputs": [],
   "source": [
    "dados = np.array(dados)\n",
    "\n",
    "df = pd.DataFrame(dados, \n",
    "                  index=['2 milhoes', '4 milhoes', '6 milhoes', '8 milhoes', \n",
    "                         '10 milhoes', '12 milhoes', '14 milhoes', '16 milhoes'], \n",
    "                  columns=['Esquerda', 'Centro', 'Direita'])\n",
    "df"
   ]
  }
 ],
 "metadata": {
  "kernelspec": {
   "display_name": "Python 3 (ipykernel)",
   "language": "python",
   "name": "python3"
  },
  "language_info": {
   "codemirror_mode": {
    "name": "ipython",
    "version": 3
   },
   "file_extension": ".py",
   "mimetype": "text/x-python",
   "name": "python",
   "nbconvert_exporter": "python",
   "pygments_lexer": "ipython3",
   "version": "3.8.10"
  }
 },
 "nbformat": 4,
 "nbformat_minor": 4
}
